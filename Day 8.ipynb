{
 "cells": [
  {
   "cell_type": "code",
   "execution_count": 2,
   "id": "07b57bf2-ebfb-4b58-ab05-8c71e7f40bed",
   "metadata": {},
   "outputs": [
    {
     "data": {
      "text/plain": [
       "[1, 3, 5, 7, 8, 9]"
      ]
     },
     "execution_count": 2,
     "metadata": {},
     "output_type": "execute_result"
    }
   ],
   "source": [
    "# Find the difference between two lists (elements in A not in B)\n",
    "a = [1,2,3,4,5,6,7,8,9]\n",
    "b =[2,4,6]\n",
    "\n",
    "diff = [x for x in a if x not in b]\n",
    "diff"
   ]
  },
  {
   "cell_type": "code",
   "execution_count": 3,
   "id": "7c85e681-91e4-4b04-b8b5-e1eab51cbefd",
   "metadata": {},
   "outputs": [
    {
     "data": {
      "text/plain": [
       "[1, 3, 5, 7, 8, 9]"
      ]
     },
     "execution_count": 3,
     "metadata": {},
     "output_type": "execute_result"
    }
   ],
   "source": [
    "diff1 = list(set(a) - set(b))\n",
    "diff1"
   ]
  },
  {
   "cell_type": "code",
   "execution_count": 4,
   "id": "2443bb6d-3450-414b-990a-3b61e788e77c",
   "metadata": {},
   "outputs": [
    {
     "name": "stdout",
     "output_type": "stream",
     "text": [
      "[1, None, '', 'hello', 0, 'world', None, '']\n"
     ]
    }
   ],
   "source": [
    "#Remove None or empty strings from a list\n",
    "a = [1, None,\"\", \"hello\", 0,'world',None, \"\"]\n",
    "\n",
    "b = [x for x in a if x not in (None, \"\")]\n",
    "print(a)"
   ]
  },
  {
   "cell_type": "code",
   "execution_count": 8,
   "id": "42197a96-ee78-47f6-aba2-0dad77681c90",
   "metadata": {},
   "outputs": [
    {
     "data": {
      "text/plain": [
       "[1, 'hello', 0, 'world']"
      ]
     },
     "execution_count": 8,
     "metadata": {},
     "output_type": "execute_result"
    }
   ],
   "source": [
    "c =list(filter(lambda x:x not in (None, \"\"),a))\n",
    "c"
   ]
  },
  {
   "cell_type": "code",
   "execution_count": 9,
   "id": "2e043caf-a0c3-43f9-bff7-e5b010142ffd",
   "metadata": {},
   "outputs": [
    {
     "data": {
      "text/plain": [
       "[1, 3, 5]"
      ]
     },
     "execution_count": 9,
     "metadata": {},
     "output_type": "execute_result"
    }
   ],
   "source": [
    "#Get the index of all occurrences of a given element in a list\n",
    "\n",
    "a = [1, 2, 3, 2, 4, 2, 5]\n",
    "target = 2\n",
    "\n",
    "i = [i for i , val in enumerate(a) if val == target]\n",
    "i"
   ]
  },
  {
   "cell_type": "code",
   "execution_count": 12,
   "id": "46ea1bc5-82c4-4876-bbce-afc67b123cd3",
   "metadata": {},
   "outputs": [
    {
     "data": {
      "text/plain": [
       "[1, 3, 5]"
      ]
     },
     "execution_count": 12,
     "metadata": {},
     "output_type": "execute_result"
    }
   ],
   "source": [
    "i2 = []\n",
    "for i in  range (len(a)):\n",
    "    if a[i] ==  target:\n",
    "        i2. append(i)\n",
    "i2\n",
    "    "
   ]
  },
  {
   "cell_type": "code",
   "execution_count": 13,
   "id": "aeae8577-550f-4d58-9bc1-9d0a86a72217",
   "metadata": {},
   "outputs": [
    {
     "data": {
      "text/plain": [
       "15"
      ]
     },
     "execution_count": 13,
     "metadata": {},
     "output_type": "execute_result"
    }
   ],
   "source": [
    "# Find the sum of all elements in a list without using sum()\n",
    "a = [1, 2, 3, 4, 5]\n",
    "\n",
    "t = 0\n",
    "for i in a :\n",
    "    t += i\n",
    "t"
   ]
  },
  {
   "cell_type": "code",
   "execution_count": 16,
   "id": "493e3ed1-6e8e-4815-bd77-b7562eff217b",
   "metadata": {},
   "outputs": [
    {
     "data": {
      "text/plain": [
       "15"
      ]
     },
     "execution_count": 16,
     "metadata": {},
     "output_type": "execute_result"
    }
   ],
   "source": [
    "from functools import reduce\n",
    "t = reduce(lambda a, b: a + b, a)\n",
    "t"
   ]
  },
  {
   "cell_type": "code",
   "execution_count": 17,
   "id": "8614e59e-0efd-45ac-b38f-bfe008c3aef5",
   "metadata": {},
   "outputs": [
    {
     "data": {
      "text/plain": [
       "{'a': 2, 'b': 3, 'c': 4}"
      ]
     },
     "execution_count": 17,
     "metadata": {},
     "output_type": "execute_result"
    }
   ],
   "source": [
    "# Convert two lists into a dictionary (keys from one, values from another)\n",
    "k = [\"a\", \"b\", \"c\"]\n",
    "\n",
    "v = [2,3,4]\n",
    "d = dict(zip(k,v))\n",
    "d"
   ]
  },
  {
   "cell_type": "code",
   "execution_count": 18,
   "id": "46b90a68-0b6d-497d-bb7e-4704635d7d10",
   "metadata": {},
   "outputs": [
    {
     "data": {
      "text/plain": [
       "{'a': 2, 'b': 3, 'c': 4}"
      ]
     },
     "execution_count": 18,
     "metadata": {},
     "output_type": "execute_result"
    }
   ],
   "source": [
    "d1 = {k[i]: v[i] for i in range(len(k))}\n",
    "d1"
   ]
  },
  {
   "cell_type": "code",
   "execution_count": null,
   "id": "d08fd197-97c4-47b2-bb49-0a9d1fe9bc41",
   "metadata": {},
   "outputs": [],
   "source": []
  }
 ],
 "metadata": {
  "kernelspec": {
   "display_name": "Python 3 (ipykernel)",
   "language": "python",
   "name": "python3"
  },
  "language_info": {
   "codemirror_mode": {
    "name": "ipython",
    "version": 3
   },
   "file_extension": ".py",
   "mimetype": "text/x-python",
   "name": "python",
   "nbconvert_exporter": "python",
   "pygments_lexer": "ipython3",
   "version": "3.11.2"
  },
  "widgets": {
   "application/vnd.jupyter.widget-state+json": {
    "state": {},
    "version_major": 2,
    "version_minor": 0
   }
  }
 },
 "nbformat": 4,
 "nbformat_minor": 5
}
