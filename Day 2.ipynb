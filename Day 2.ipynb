{
 "cells": [
  {
   "cell_type": "code",
   "execution_count": 1,
   "id": "2357415d-0cf1-44b4-b2e2-6b9364419ae2",
   "metadata": {},
   "outputs": [
    {
     "name": "stdout",
     "output_type": "stream",
     "text": [
      "[1, 2, 3, 4, 5, 7, 9]\n"
     ]
    }
   ],
   "source": [
    "#1 Remove duplicate elements from a list\n",
    "#How would you remove duplicates from a list in Python?\n",
    "\n",
    "\n",
    "a = [1, 2, 2, 3, 4, 4, 5,5,3,7,9]\n",
    "res = list(set(a))\n",
    "print(res)"
   ]
  },
  {
   "cell_type": "code",
   "execution_count": 2,
   "id": "2f058104-4875-498f-861e-7ee3de4aa8b5",
   "metadata": {},
   "outputs": [
    {
     "name": "stdout",
     "output_type": "stream",
     "text": [
      "99\n",
      "3\n"
     ]
    }
   ],
   "source": [
    "#Find the maximum and minimum in a list\n",
    "#How would you find the max and min in a list?\n",
    "\n",
    "a = [10, 25, 3, 99, 7]\n",
    "print(max(a))\n",
    "print(min(a))"
   ]
  },
  {
   "cell_type": "code",
   "execution_count": 5,
   "id": "136525ad-0ea7-40b4-950b-b24a2af9546b",
   "metadata": {},
   "outputs": [
    {
     "name": "stdout",
     "output_type": "stream",
     "text": [
      "max: 99 min: 3\n"
     ]
    }
   ],
   "source": [
    "a= [10, 25, 3, 99, 7]\n",
    "max =min = a[0]\n",
    "for num in a:\n",
    "    if num > max:\n",
    "        max = num\n",
    "    if num < min :\n",
    "        min = num\n",
    "\n",
    "print('max:',max, 'min:',min)"
   ]
  },
  {
   "cell_type": "code",
   "execution_count": 6,
   "id": "38db7167-11dd-4f5c-98e9-d1c2df33a83f",
   "metadata": {},
   "outputs": [
    {
     "name": "stdout",
     "output_type": "stream",
     "text": [
      "Max: 99\n",
      "Min: 3\n"
     ]
    }
   ],
   "source": [
    "lst = [10, 25, 3, 99, 7]\n",
    "print(\"Max:\", sorted(lst)[-1])  \n",
    "print(\"Min:\", sorted(lst)[0])  "
   ]
  },
  {
   "cell_type": "code",
   "execution_count": 7,
   "id": "79f10149-029a-4865-91c0-fad3f203fd1e",
   "metadata": {},
   "outputs": [
    {
     "name": "stdout",
     "output_type": "stream",
     "text": [
      "[1, 2, 3, 4, 5, 6]\n"
     ]
    }
   ],
   "source": [
    "#Merge two sorted lists\n",
    "#If you have two sorted lists, how do you merge them into one sorted list?\n",
    "\n",
    "\n",
    "a = [1, 3, 5]\n",
    "b = [2, 4, 6]\n",
    "merged = sorted(a + b)\n",
    "print(merged)"
   ]
  },
  {
   "cell_type": "code",
   "execution_count": 8,
   "id": "834f4a58-2f00-498d-a38f-805d9a3e76dc",
   "metadata": {},
   "outputs": [
    {
     "name": "stdout",
     "output_type": "stream",
     "text": [
      "[3, 7, 11]\n"
     ]
    }
   ],
   "source": [
    "a = [1, 3, 5]\n",
    "b = [2, 4, 6]\n",
    "\n",
    "res = []\n",
    "for i in range (0 , len(a)):\n",
    "    res.append(a[i] + b[i])\n",
    "\n",
    "print(res)"
   ]
  },
  {
   "cell_type": "code",
   "execution_count": 9,
   "id": "af8476c9-44e1-4e53-9be0-1b4a3193073b",
   "metadata": {},
   "outputs": [
    {
     "name": "stdout",
     "output_type": "stream",
     "text": [
      "20 10\n"
     ]
    }
   ],
   "source": [
    "#Swap two variables without using a third variable\n",
    "#How do you swap two variables without using a third variable?\n",
    "\n",
    "a,b = 10,20\n",
    "a,b = b,a\n",
    "print(a,b)"
   ]
  },
  {
   "cell_type": "code",
   "execution_count": 10,
   "id": "b4184fac-5ae7-40aa-88f7-434fb660a1d6",
   "metadata": {},
   "outputs": [
    {
     "name": "stdout",
     "output_type": "stream",
     "text": [
      "{'a': 3, 'b': 2, 'h': 2, 'i': 1, 's': 1, 'e': 1, 'k': 1, ' ': 1, 'd': 1, 'w': 1, 'r': 1}\n"
     ]
    }
   ],
   "source": [
    "#Count the frequency of each character in a string (without using count())\n",
    "#How would you count the frequency of each character in a string using a dictionary?\n",
    "\n",
    "a = 'abhishek badwar'\n",
    "freq = {}\n",
    "for i in a:\n",
    "    freq[i] = freq.get(i , 0) + 1\n",
    "\n",
    "print(freq)"
   ]
  },
  {
   "cell_type": "code",
   "execution_count": 11,
   "id": "329d0578-5049-42ab-be7e-d7b076c408de",
   "metadata": {},
   "outputs": [
    {
     "name": "stdout",
     "output_type": "stream",
     "text": [
      "{'a': 3, 'b': 2, 'h': 2, 'i': 1, 's': 1, 'e': 1, 'k': 1, ' ': 1, 'd': 1, 'w': 1, 'r': 1}\n"
     ]
    }
   ],
   "source": [
    "from collections import Counter\n",
    "a = 'abhishek badwar'\n",
    "freq = dict(Counter(a))\n",
    "print(freq)"
   ]
  },
  {
   "cell_type": "code",
   "execution_count": null,
   "id": "25e67b35-80f2-46d1-bc98-06dddeadfd80",
   "metadata": {},
   "outputs": [],
   "source": []
  }
 ],
 "metadata": {
  "kernelspec": {
   "display_name": "Python 3 (ipykernel)",
   "language": "python",
   "name": "python3"
  },
  "language_info": {
   "codemirror_mode": {
    "name": "ipython",
    "version": 3
   },
   "file_extension": ".py",
   "mimetype": "text/x-python",
   "name": "python",
   "nbconvert_exporter": "python",
   "pygments_lexer": "ipython3",
   "version": "3.11.2"
  },
  "widgets": {
   "application/vnd.jupyter.widget-state+json": {
    "state": {},
    "version_major": 2,
    "version_minor": 0
   }
  }
 },
 "nbformat": 4,
 "nbformat_minor": 5
}
