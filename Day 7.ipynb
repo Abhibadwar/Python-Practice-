{
 "cells": [
  {
   "cell_type": "code",
   "execution_count": 3,
   "id": "4dcecf51-15ad-4521-b1c2-3e6338aac407",
   "metadata": {},
   "outputs": [
    {
     "name": "stdout",
     "output_type": "stream",
     "text": [
      "[[1, 2, 3], [4, 5, 6], [6, 7, 8], [9]]\n"
     ]
    }
   ],
   "source": [
    "# Split a list into n equal chunks\n",
    "a = [1,2,3,4,5,6,6,7,8,9]\n",
    "n = 3\n",
    "chunks = [a[i:i+n] for i in range (0, len(a), n)]\n",
    "print(chunks)"
   ]
  },
  {
   "cell_type": "code",
   "execution_count": 2,
   "id": "87d559b5-a981-4cab-ac89-337d5627b4f7",
   "metadata": {},
   "outputs": [
    {
     "name": "stdout",
     "output_type": "stream",
     "text": [
      "[array([1, 2, 3, 4]), array([5, 6, 6]), array([7, 8, 9])]\n"
     ]
    }
   ],
   "source": [
    "import numpy as np\n",
    "print(np.array_split(a,n))"
   ]
  },
  {
   "cell_type": "code",
   "execution_count": 6,
   "id": "7b3caa49-cb91-4221-a595-49e66a4a57dc",
   "metadata": {},
   "outputs": [
    {
     "name": "stdout",
     "output_type": "stream",
     "text": [
      "[2, 3, 4, 4, 5, 5, 6, 7]\n"
     ]
    }
   ],
   "source": [
    "# Merge two sorted lists into a single sorted list\n",
    "# Simple + sorted\n",
    "a =[2,3,4,5]\n",
    "b =[4,5,6,7]\n",
    "\n",
    "merged = sorted(a + b)\n",
    "print(merged)"
   ]
  },
  {
   "cell_type": "code",
   "execution_count": 7,
   "id": "d30d2dd8-5c75-4f5e-9c5d-7233b1501bcd",
   "metadata": {},
   "outputs": [
    {
     "name": "stdout",
     "output_type": "stream",
     "text": [
      "[2, 3, 4, 4, 5, 5, 6, 7]\n"
     ]
    }
   ],
   "source": [
    "# Two-pointer method (no extra sorting)\n",
    "i=j=0\n",
    "merged = []\n",
    "while i < len(a) and j < len(b):\n",
    "    if a [i] < b[j]:\n",
    "        merged.append(a[i]); i+=1\n",
    "    else:\n",
    "        merged.append(b[j]); j+=1\n",
    "merged.extend(a[i:]); merged.extend(b[j:])\n",
    "print(merged)\n",
    "\n"
   ]
  },
  {
   "cell_type": "code",
   "execution_count": 10,
   "id": "42cdb640-e191-4ff7-bf98-c01fdd986ca7",
   "metadata": {},
   "outputs": [
    {
     "name": "stdout",
     "output_type": "stream",
     "text": [
      "[9, 8, 7, 6, 5, 4, 2, 4, 2]\n"
     ]
    }
   ],
   "source": [
    "#Remove all occurrences of a specific element from a list\n",
    "a = [9,8,7,6,5,4,3,2,4,3,2]\n",
    "x = 3\n",
    "a1 = [i for i in a if i !=x]\n",
    "print(a1)"
   ]
  },
  {
   "cell_type": "code",
   "execution_count": 12,
   "id": "531d6f7f-8834-40ac-adbb-009a868ea5d0",
   "metadata": {},
   "outputs": [
    {
     "name": "stdout",
     "output_type": "stream",
     "text": [
      "[9, 8, 7, 6, 5, 4, 2, 4, 2]\n"
     ]
    }
   ],
   "source": [
    "#While + remove()\n",
    "while x in a:\n",
    "    a.remove(x)\n",
    "print(a)"
   ]
  },
  {
   "cell_type": "code",
   "execution_count": 17,
   "id": "932af95b-b7dd-4a4f-aae6-30150a8b899e",
   "metadata": {},
   "outputs": [
    {
     "name": "stdout",
     "output_type": "stream",
     "text": [
      "[(2, 7), (3, 6), (4, 5)]\n"
     ]
    }
   ],
   "source": [
    "# Find all pairs in a list that sum to a target value\n",
    "a= [2,3,4,5,6,7,8,9]\n",
    "t = 9\n",
    "pairs = []\n",
    "for i in range(len(a)):\n",
    "    for j in range(i+1, len(a)):\n",
    "        if a [i] + a[j] == t:\n",
    "            pairs.append((a[i], a[j]))\n",
    "print(pairs)\n",
    "\n",
    "        "
   ]
  },
  {
   "cell_type": "code",
   "execution_count": 18,
   "id": "df6d3d29-ad81-4f32-a52e-13fdcf71afe9",
   "metadata": {},
   "outputs": [
    {
     "name": "stdout",
     "output_type": "stream",
     "text": [
      "[4, 5, 6, 7, 8]\n"
     ]
    }
   ],
   "source": [
    "# Find the common elements between two lists\n",
    "\n",
    "a  = [1,2,3,4,5,6,7,8]\n",
    "b = [4,5,6,7,8]\n",
    "common = list(set(a) & set(b))\n",
    "print(common)"
   ]
  },
  {
   "cell_type": "code",
   "execution_count": 19,
   "id": "5941b4e3-7977-4f42-a2f0-4b28bc36831e",
   "metadata": {},
   "outputs": [
    {
     "data": {
      "text/plain": [
       "[4, 5, 6, 7, 8]"
      ]
     },
     "execution_count": 19,
     "metadata": {},
     "output_type": "execute_result"
    }
   ],
   "source": [
    "co = [i for i in a if i in b]\n",
    "co"
   ]
  },
  {
   "cell_type": "code",
   "execution_count": null,
   "id": "b192bae4-f3b1-4539-a6c4-9a07108c8985",
   "metadata": {},
   "outputs": [],
   "source": []
  }
 ],
 "metadata": {
  "kernelspec": {
   "display_name": "Python 3 (ipykernel)",
   "language": "python",
   "name": "python3"
  },
  "language_info": {
   "codemirror_mode": {
    "name": "ipython",
    "version": 3
   },
   "file_extension": ".py",
   "mimetype": "text/x-python",
   "name": "python",
   "nbconvert_exporter": "python",
   "pygments_lexer": "ipython3",
   "version": "3.11.2"
  },
  "widgets": {
   "application/vnd.jupyter.widget-state+json": {
    "state": {},
    "version_major": 2,
    "version_minor": 0
   }
  }
 },
 "nbformat": 4,
 "nbformat_minor": 5
}
