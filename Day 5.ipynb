{
 "cells": [
  {
   "cell_type": "code",
   "execution_count": 1,
   "id": "cd647413-316a-4d56-837e-93de905c0213",
   "metadata": {},
   "outputs": [
    {
     "name": "stdout",
     "output_type": "stream",
     "text": [
      "[5, 4, 3, 2, 1]\n"
     ]
    }
   ],
   "source": [
    "# Reverse a list\n",
    "a = [1, 2, 3, 4, 5]\n",
    "print(a[::-1])\n"
   ]
  },
  {
   "cell_type": "code",
   "execution_count": 2,
   "id": "2f79c6b7-84a6-42a9-b96f-927c2638ddcf",
   "metadata": {},
   "outputs": [
    {
     "name": "stdout",
     "output_type": "stream",
     "text": [
      "[5, 4, 3, 2, 1]\n"
     ]
    }
   ],
   "source": [
    "a = [1, 2, 3, 4, 5]\n",
    "print(list(reversed(a)))"
   ]
  },
  {
   "cell_type": "code",
   "execution_count": 4,
   "id": "ed2cae0d-e9a1-4348-b797-0d5f571f75c2",
   "metadata": {},
   "outputs": [
    {
     "name": "stdout",
     "output_type": "stream",
     "text": [
      "5\n"
     ]
    }
   ],
   "source": [
    "# Find the second largest number in a list\n",
    "a = [1, 2, 3, 6, 5]\n",
    "print(sorted(set(a))[-2])"
   ]
  },
  {
   "cell_type": "code",
   "execution_count": 5,
   "id": "d764e1f2-b791-4b2e-b96f-493ee6b0314b",
   "metadata": {},
   "outputs": [
    {
     "name": "stdout",
     "output_type": "stream",
     "text": [
      "3\n"
     ]
    }
   ],
   "source": [
    "a = [1, 2, 3, 6, 5]\n",
    "print(sorted(set(a))[-3])"
   ]
  },
  {
   "cell_type": "code",
   "execution_count": 6,
   "id": "4fdf6c60-2c4d-4f48-945d-f3d110ebe9a2",
   "metadata": {},
   "outputs": [
    {
     "name": "stdout",
     "output_type": "stream",
     "text": [
      "2\n"
     ]
    }
   ],
   "source": [
    "# Find the second smallest number in a list\n",
    "\n",
    "a = [1, 2, 3, 6, 5]\n",
    "print(sorted(set(a))[1])"
   ]
  },
  {
   "cell_type": "code",
   "execution_count": 7,
   "id": "fb991ecc-0756-45a8-a17f-be5232a65871",
   "metadata": {},
   "outputs": [
    {
     "name": "stdout",
     "output_type": "stream",
     "text": [
      "[1, 2, 3, 4, 5]\n"
     ]
    }
   ],
   "source": [
    "# Remove duplicates from a list while preserving order\n",
    "a =  [1, 2, 2, 3, 4, 1, 5]\n",
    "result =  []\n",
    "seen = set()\n",
    "for x in a:\n",
    "    if x not in seen:\n",
    "        result.append(x)\n",
    "        seen.add(x)\n",
    "print(result)"
   ]
  },
  {
   "cell_type": "code",
   "execution_count": 9,
   "id": "299ce19a-6c87-4412-84a2-1e9ba8490d0b",
   "metadata": {},
   "outputs": [
    {
     "name": "stdout",
     "output_type": "stream",
     "text": [
      "[1, 2, 3, 4, 5]\n"
     ]
    }
   ],
   "source": [
    "# Flatten a nested list\n",
    "def flatten(a):\n",
    "    result = []\n",
    "    for i in a:\n",
    "        if isinstance(i, list):\n",
    "            result.extend(flatten(i))\n",
    "        else:\n",
    "            result.append(i)\n",
    "    return result\n",
    "print(flatten([1, [2, [3, 4]], 5]))"
   ]
  },
  {
   "cell_type": "code",
   "execution_count": null,
   "id": "119bf56b-af3f-49dd-8972-639a45c11a3a",
   "metadata": {},
   "outputs": [],
   "source": []
  }
 ],
 "metadata": {
  "kernelspec": {
   "display_name": "Python 3 (ipykernel)",
   "language": "python",
   "name": "python3"
  },
  "language_info": {
   "codemirror_mode": {
    "name": "ipython",
    "version": 3
   },
   "file_extension": ".py",
   "mimetype": "text/x-python",
   "name": "python",
   "nbconvert_exporter": "python",
   "pygments_lexer": "ipython3",
   "version": "3.11.2"
  },
  "widgets": {
   "application/vnd.jupyter.widget-state+json": {
    "state": {},
    "version_major": 2,
    "version_minor": 0
   }
  }
 },
 "nbformat": 4,
 "nbformat_minor": 5
}
