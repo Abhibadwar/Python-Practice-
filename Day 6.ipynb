{
 "cells": [
  {
   "cell_type": "code",
   "execution_count": 24,
   "id": "efffef0d-c73c-4ea5-90b8-1207571f1b9f",
   "metadata": {},
   "outputs": [],
   "source": [
    "#Sort a list without using sort()\n",
    "# using Bubble sort\n",
    "def sort(a):\n",
    "    n= len(a)\n",
    "    for i in range(n):\n",
    "        for j in range(0, n-i-1):\n",
    "            if a [j] > a[j+1]:\n",
    "                a[j],a[j+1] = a[j+1], a[j]\n",
    "    return a"
   ]
  },
  {
   "cell_type": "code",
   "execution_count": 25,
   "id": "bd420a88-7682-401b-a1b0-7122c07051ed",
   "metadata": {},
   "outputs": [
    {
     "data": {
      "text/plain": [
       "[1, 2, 3, 5, 6, 7, 9]"
      ]
     },
     "execution_count": 25,
     "metadata": {},
     "output_type": "execute_result"
    }
   ],
   "source": [
    "sort([5,7,9,3,6,2,1])"
   ]
  },
  {
   "cell_type": "code",
   "execution_count": 26,
   "id": "da409f9f-4295-4de1-ab8d-62a8e84f6811",
   "metadata": {},
   "outputs": [],
   "source": [
    "# using slection sort \n",
    "def selction_sort(a):\n",
    "    for i in range(len(a)):\n",
    "        min = 1\n",
    "        for j in range(i+1, len(a)):\n",
    "            if a [j] < a[min]:\n",
    "                min =j\n",
    "        a[i] ,a[min] = a[min],a[i]\n",
    "    return a\n",
    "    "
   ]
  },
  {
   "cell_type": "code",
   "execution_count": 27,
   "id": "98dd1682-7e77-4a56-b8b8-d3de5b646739",
   "metadata": {},
   "outputs": [
    {
     "data": {
      "text/plain": [
       "[1, 7, 2, 5, 3, 6, 9]"
      ]
     },
     "execution_count": 27,
     "metadata": {},
     "output_type": "execute_result"
    }
   ],
   "source": [
    "selction_sort([5,7,9,3,6,2,1])"
   ]
  },
  {
   "cell_type": "code",
   "execution_count": 28,
   "id": "fda88f90-667c-47be-8e3b-faf0e4fdd0aa",
   "metadata": {},
   "outputs": [
    {
     "data": {
      "text/plain": [
       "[1, 2, 3, 5, 6, 7, 9]"
      ]
     },
     "execution_count": 28,
     "metadata": {},
     "output_type": "execute_result"
    }
   ],
   "source": [
    "# using sorted and sort\n",
    "a = [5,7,9,3,6,2,1]\n",
    "a.sort()\n",
    "a"
   ]
  },
  {
   "cell_type": "code",
   "execution_count": 33,
   "id": "b0d4ef09-b7c0-4a4d-8156-080398767c2d",
   "metadata": {},
   "outputs": [
    {
     "data": {
      "text/plain": [
       "[4, 5, 1, 2, 3]"
      ]
     },
     "execution_count": 33,
     "metadata": {},
     "output_type": "execute_result"
    }
   ],
   "source": [
    "# Rotate a list by k positions\n",
    "# using slicing\n",
    "a = [1, 2, 3, 4, 5]\n",
    "k = 2\n",
    "k = k % len(a)\n",
    "\n",
    "b = a[-k:]  + a[:-k] \n",
    "b"
   ]
  },
  {
   "cell_type": "code",
   "execution_count": 34,
   "id": "39c2ede3-80d1-4aa0-b03a-557660e96e86",
   "metadata": {},
   "outputs": [
    {
     "data": {
      "text/plain": [
       "[4, 5, 1, 2, 3]"
      ]
     },
     "execution_count": 34,
     "metadata": {},
     "output_type": "execute_result"
    }
   ],
   "source": [
    "c = [1, 2, 3, 4, 5]\n",
    "for _ in range(k):\n",
    "    c.insert(0, c.pop())\n",
    "c"
   ]
  },
  {
   "cell_type": "code",
   "execution_count": 35,
   "id": "eee41fc2-9463-4f2b-b02e-f2883bd31bc3",
   "metadata": {},
   "outputs": [
    {
     "data": {
      "text/plain": [
       "False"
      ]
     },
     "execution_count": 35,
     "metadata": {},
     "output_type": "execute_result"
    }
   ],
   "source": [
    "# Check if two lists are equal\n",
    "a = [1, 2, 3]\n",
    "b= [1, 2, 3,4]\n",
    "\n",
    "b = a==b\n",
    "b"
   ]
  },
  {
   "cell_type": "code",
   "execution_count": 36,
   "id": "52e942b5-c99d-4f44-9450-8effb0a0b621",
   "metadata": {},
   "outputs": [
    {
     "data": {
      "text/plain": [
       "False"
      ]
     },
     "execution_count": 36,
     "metadata": {},
     "output_type": "execute_result"
    }
   ],
   "source": [
    "# Check if a list is a palindrome\n",
    "a =[1, 2, 3, 4, 5]\n",
    "a == a[::-1]"
   ]
  },
  {
   "cell_type": "code",
   "execution_count": 37,
   "id": "63b97965-659f-4fb6-990a-a7865064a347",
   "metadata": {},
   "outputs": [],
   "source": [
    "# Frequency of elements\n",
    "a =[1, 2, 3, 4, 5]\n",
    "freq = {}\n",
    "for i in  a:\n",
    "    freq[i] = freq.get(i, 0) + 1"
   ]
  },
  {
   "cell_type": "code",
   "execution_count": 38,
   "id": "05b898ce-5c36-49e3-8204-4e7969b772f7",
   "metadata": {},
   "outputs": [
    {
     "data": {
      "text/plain": [
       "{1: 1, 2: 1, 3: 1, 4: 1, 5: 1}"
      ]
     },
     "execution_count": 38,
     "metadata": {},
     "output_type": "execute_result"
    }
   ],
   "source": [
    "freq"
   ]
  },
  {
   "cell_type": "code",
   "execution_count": null,
   "id": "3f40abfb-7042-4144-88e0-6eb20b33f9f8",
   "metadata": {},
   "outputs": [],
   "source": []
  },
  {
   "cell_type": "code",
   "execution_count": null,
   "id": "ffe0b272-b9c1-49b7-bca9-835e920bc0e7",
   "metadata": {},
   "outputs": [],
   "source": []
  },
  {
   "cell_type": "code",
   "execution_count": null,
   "id": "dfaafd1c-b4ce-4665-b7df-b270394879a4",
   "metadata": {},
   "outputs": [],
   "source": []
  }
 ],
 "metadata": {
  "kernelspec": {
   "display_name": "Python 3 (ipykernel)",
   "language": "python",
   "name": "python3"
  },
  "language_info": {
   "codemirror_mode": {
    "name": "ipython",
    "version": 3
   },
   "file_extension": ".py",
   "mimetype": "text/x-python",
   "name": "python",
   "nbconvert_exporter": "python",
   "pygments_lexer": "ipython3",
   "version": "3.11.2"
  },
  "widgets": {
   "application/vnd.jupyter.widget-state+json": {
    "state": {},
    "version_major": 2,
    "version_minor": 0
   }
  }
 },
 "nbformat": 4,
 "nbformat_minor": 5
}
