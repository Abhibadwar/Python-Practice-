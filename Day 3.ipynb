{
 "cells": [
  {
   "cell_type": "code",
   "execution_count": 4,
   "id": "fc554c25-5856-4782-a214-f29cb270a434",
   "metadata": {},
   "outputs": [
    {
     "name": "stdout",
     "output_type": "stream",
     "text": [
      "True\n"
     ]
    }
   ],
   "source": [
    "# Check if two strings are anagrams\n",
    "def is_anagram(s1,s2):\n",
    "    return sorted(s1) == sorted(s2)\n",
    "\n",
    "print(is_anagram('listen','silent'))"
   ]
  },
  {
   "cell_type": "code",
   "execution_count": 8,
   "id": "0d19f011-47e1-45c6-a0be-5e9d74041f62",
   "metadata": {},
   "outputs": [
    {
     "name": "stdout",
     "output_type": "stream",
     "text": [
      "True\n"
     ]
    }
   ],
   "source": [
    "# Check if a number is an Armstrong number\n",
    "\n",
    "def is_aemstrong(num):\n",
    "    return num == sum(int(digit) ** len(str(num) ) for digit in str (num))\n",
    "print(is_aemstrong(9474))"
   ]
  },
  {
   "cell_type": "code",
   "execution_count": 14,
   "id": "490c5740-5a54-416e-b077-61deeae33448",
   "metadata": {},
   "outputs": [
    {
     "name": "stdout",
     "output_type": "stream",
     "text": [
      "True\n"
     ]
    }
   ],
   "source": [
    "# Check if a number is prime\n",
    "def prime(n):\n",
    "    if n < 2:\n",
    "        return False\n",
    "    for i in range(2, n):\n",
    "        if n % i == 0 :\n",
    "            return False\n",
    "    return True\n",
    "\n",
    "print(prime(17))"
   ]
  },
  {
   "cell_type": "code",
   "execution_count": 16,
   "id": "c0b74294-dfb6-4253-8dd0-f4fba88bda36",
   "metadata": {},
   "outputs": [
    {
     "name": "stdout",
     "output_type": "stream",
     "text": [
      "6\n",
      "36\n"
     ]
    }
   ],
   "source": [
    "# Find the GCD and LCM of two numbers\n",
    "#GCD (Greatest Common Divisor) = largest number dividing both\n",
    "#LCM (Least Common Multiple) = (a × b) / GCD(a, b)\n",
    "\n",
    "import math \n",
    "a, b = 12, 18 \n",
    "\n",
    "gcd = math.gcd(a,b)\n",
    "lcm = abs(a*b)//gcd\n",
    "\n",
    "print(gcd)\n",
    "print(lcm)\n"
   ]
  },
  {
   "cell_type": "code",
   "execution_count": 17,
   "id": "acbb1c23-2608-412f-8d33-5abf10446eb2",
   "metadata": {},
   "outputs": [
    {
     "ename": "SyntaxError",
     "evalue": "invalid syntax. Perhaps you forgot a comma? (43233027.py, line 5)",
     "output_type": "error",
     "traceback": [
      "\u001b[1;36m  Cell \u001b[1;32mIn[17], line 5\u001b[1;36m\u001b[0m\n\u001b[1;33m    print(sun_of _digit(234))\u001b[0m\n\u001b[1;37m          ^\u001b[0m\n\u001b[1;31mSyntaxError\u001b[0m\u001b[1;31m:\u001b[0m invalid syntax. Perhaps you forgot a comma?\n"
     ]
    }
   ],
   "source": [
    "# Find the sum of digits of a number\n",
    "def sun_of_digit(n):\n",
    "    return sum(int(d) for d in str (n))\n",
    "\n",
    "print(sun_of_digit(234))\n",
    "\n"
   ]
  },
  {
   "cell_type": "code",
   "execution_count": null,
   "id": "19c60ce8-35a7-426b-833f-cbd06e8b934c",
   "metadata": {},
   "outputs": [],
   "source": []
  }
 ],
 "metadata": {
  "kernelspec": {
   "display_name": "Python 3 (ipykernel)",
   "language": "python",
   "name": "python3"
  },
  "language_info": {
   "codemirror_mode": {
    "name": "ipython",
    "version": 3
   },
   "file_extension": ".py",
   "mimetype": "text/x-python",
   "name": "python",
   "nbconvert_exporter": "python",
   "pygments_lexer": "ipython3",
   "version": "3.11.2"
  },
  "widgets": {
   "application/vnd.jupyter.widget-state+json": {
    "state": {},
    "version_major": 2,
    "version_minor": 0
   }
  }
 },
 "nbformat": 4,
 "nbformat_minor": 5
}
