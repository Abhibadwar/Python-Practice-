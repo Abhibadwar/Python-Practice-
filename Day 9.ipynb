{
 "cells": [
  {
   "cell_type": "code",
   "execution_count": 1,
   "id": "46f6f87c-5b35-4155-9dd7-57342b462586",
   "metadata": {},
   "outputs": [
    {
     "data": {
      "text/plain": [
       "9"
      ]
     },
     "execution_count": 1,
     "metadata": {},
     "output_type": "execute_result"
    }
   ],
   "source": [
    "#Python Program to find the largest element in the list\n",
    "\n",
    "list = [3,5,6,8,9,1,0]\n",
    "max(list)"
   ]
  },
  {
   "cell_type": "code",
   "execution_count": 2,
   "id": "5f3f668e-1daf-45b8-b426-3a875b1f6014",
   "metadata": {},
   "outputs": [
    {
     "data": {
      "text/plain": [
       "[9, 4, 5, 6, 7, 8, 3]"
      ]
     },
     "execution_count": 2,
     "metadata": {},
     "output_type": "execute_result"
    }
   ],
   "source": [
    "# Python program to interchange first and last elements in a list. \\\n",
    "list = [3,4,5,6,7,8,9]\n",
    "list[0],list[-1] = list[-1] , list[0]\n",
    "list"
   ]
  },
  {
   "cell_type": "code",
   "execution_count": 3,
   "id": "f0164157-86ee-481a-9fae-ab65267a3086",
   "metadata": {},
   "outputs": [
    {
     "data": {
      "text/plain": [
       "[2, 5, 4, 6, 7, 8, 9]"
      ]
     },
     "execution_count": 3,
     "metadata": {},
     "output_type": "execute_result"
    }
   ],
   "source": [
    "#  Python program to swap two elements in a list\n",
    "list = [2,4,5,6,7,8,9]\n",
    "list[1], list[2] = list[2] ,list[1]\n",
    "list"
   ]
  },
  {
   "cell_type": "code",
   "execution_count": 4,
   "id": "4de8da46-c2ac-4ea6-9af8-19834d875087",
   "metadata": {},
   "outputs": [
    {
     "data": {
      "text/plain": [
       "[6, 5, 4, 3]"
      ]
     },
     "execution_count": 4,
     "metadata": {},
     "output_type": "execute_result"
    }
   ],
   "source": [
    "#Python program to Reverse a List\n",
    "list =[3,4,5,6]\n",
    "list[::-1]"
   ]
  },
  {
   "cell_type": "code",
   "execution_count": 5,
   "id": "f0dc2347-545d-41f9-b1ad-aff6a5835ce3",
   "metadata": {},
   "outputs": [
    {
     "data": {
      "text/plain": [
       "1"
      ]
     },
     "execution_count": 5,
     "metadata": {},
     "output_type": "execute_result"
    }
   ],
   "source": [
    "#Python program to count occurrences of an element in a list\n",
    "list= [2,3,4,5,6,7,8,9]\n",
    "list.count(2)"
   ]
  },
  {
   "cell_type": "code",
   "execution_count": 6,
   "id": "7b2ce418-16ac-43d6-8e18-64bb08ff5741",
   "metadata": {},
   "outputs": [
    {
     "data": {
      "text/plain": [
       "70"
      ]
     },
     "execution_count": 6,
     "metadata": {},
     "output_type": "execute_result"
    }
   ],
   "source": [
    "# . Python program to find the sum of elements in a list\n",
    "list =[22,3,45]\n",
    "sum(list)"
   ]
  },
  {
   "cell_type": "code",
   "execution_count": null,
   "id": "de30502a-efce-4021-9086-05c19d12bc2e",
   "metadata": {},
   "outputs": [],
   "source": [
    "# Python program to Multiply all numbers in the list\n",
    "list = [3,4,5,6,7]\n",
    "result = 1\n",
    "for num in list:\n",
    "    result *= num\n",
    "    "
   ]
  }
 ],
 "metadata": {
  "kernelspec": {
   "display_name": "Python 3 (ipykernel)",
   "language": "python",
   "name": "python3"
  },
  "language_info": {
   "codemirror_mode": {
    "name": "ipython",
    "version": 3
   },
   "file_extension": ".py",
   "mimetype": "text/x-python",
   "name": "python",
   "nbconvert_exporter": "python",
   "pygments_lexer": "ipython3",
   "version": "3.11.2"
  },
  "widgets": {
   "application/vnd.jupyter.widget-state+json": {
    "state": {},
    "version_major": 2,
    "version_minor": 0
   }
  }
 },
 "nbformat": 4,
 "nbformat_minor": 5
}
