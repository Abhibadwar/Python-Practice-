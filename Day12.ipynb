{
 "cells": [
  {
   "cell_type": "code",
   "execution_count": 2,
   "id": "746ec589-c58f-4eae-a9b9-6dd0eb94d2d1",
   "metadata": {},
   "outputs": [
    {
     "name": "stdout",
     "output_type": "stream",
     "text": [
      "9\n",
      "1\n"
     ]
    }
   ],
   "source": [
    "# python program to find the largest element in the list\n",
    "\n",
    "a = [1,3,5,6,7,8,9]\n",
    "print(max(a))\n",
    "print(min(a))"
   ]
  },
  {
   "cell_type": "code",
   "execution_count": 3,
   "id": "bd027de7-f1bc-46b9-ad73-d08e47ea20d0",
   "metadata": {},
   "outputs": [
    {
     "name": "stdout",
     "output_type": "stream",
     "text": [
      "4\n",
      "9\n"
     ]
    }
   ],
   "source": [
    "# python program to find smallest and largest number in list(without min-max function)\n",
    "\n",
    "a = [ 4,5,6,7,8,9]\n",
    "s = a[0]\n",
    "l = a[0]\n",
    "for i in a:\n",
    "    if i < s:\n",
    "        s = i\n",
    "    if i > l:\n",
    "        l = i\n",
    "\n",
    "\n",
    "print(s)\n",
    "print(l)"
   ]
  },
  {
   "cell_type": "code",
   "execution_count": 4,
   "id": "e47d07f1-288b-4e13-923c-36ae1ffa7936",
   "metadata": {},
   "outputs": [
    {
     "data": {
      "text/plain": [
       "8"
      ]
     },
     "execution_count": 4,
     "metadata": {},
     "output_type": "execute_result"
    }
   ],
   "source": [
    "num =[2,4,5,6,7,8,9]\n",
    "def second(num):\n",
    "    num = list(set(num))\n",
    "    num.sort()\n",
    "    if len(num) < 2:\n",
    "        return None\n",
    "    return num[-2]\n",
    "\n",
    "second(num)"
   ]
  },
  {
   "cell_type": "code",
   "execution_count": 5,
   "id": "a0a0197f-a527-489c-adb0-e90dba830743",
   "metadata": {},
   "outputs": [
    {
     "data": {
      "text/plain": [
       "'kehsihba'"
      ]
     },
     "execution_count": 5,
     "metadata": {},
     "output_type": "execute_result"
    }
   ],
   "source": [
    "a  = 'abhishek' \n",
    "def reverse(a):\n",
    "    reversed = \"\"\n",
    "    for i in a:\n",
    "        reversed = i + reversed\n",
    "    return reversed\n",
    "reverse(a)  "
   ]
  },
  {
   "cell_type": "code",
   "execution_count": 6,
   "id": "4d2d29f3-9c8a-4516-bef4-ca1bc1db9bb8",
   "metadata": {},
   "outputs": [
    {
     "data": {
      "text/plain": [
       "True"
      ]
     },
     "execution_count": 6,
     "metadata": {},
     "output_type": "execute_result"
    }
   ],
   "source": [
    "def prime(n):\n",
    "    if n <= 1:\n",
    "        return False\n",
    "    for i in range(2, int(n ** 0.5) + 1):\n",
    "        if n % i == 0:\n",
    "            return False\n",
    "    return True\n",
    "prime(5)"
   ]
  },
  {
   "cell_type": "code",
   "execution_count": 7,
   "id": "b6d9cccc-6711-4815-8490-ae63d8544a28",
   "metadata": {},
   "outputs": [
    {
     "data": {
      "text/plain": [
       "[0,\n",
       " 1,\n",
       " 1,\n",
       " 2,\n",
       " 3,\n",
       " 5,\n",
       " 8,\n",
       " 13,\n",
       " 21,\n",
       " 34,\n",
       " 55,\n",
       " 89,\n",
       " 144,\n",
       " 233,\n",
       " 377,\n",
       " 610,\n",
       " 987,\n",
       " 1597,\n",
       " 2584,\n",
       " 4181]"
      ]
     },
     "execution_count": 7,
     "metadata": {},
     "output_type": "execute_result"
    }
   ],
   "source": [
    "def fibo(n):\n",
    "    fib = [0,1]\n",
    "    while len(fib) < n:\n",
    "        fib.append(fib[-1]+fib[-2])\n",
    "    return fib[:n]\n",
    "fibo(20)   "
   ]
  },
  {
   "cell_type": "code",
   "execution_count": 8,
   "id": "f99897b6-9e7c-46fc-aafe-af3ec077ff94",
   "metadata": {},
   "outputs": [],
   "source": [
    "def fib(n):\n",
    "    if n<=0:\n",
    "        return 0\n",
    "    elif n == 1:\n",
    "        return 1\n",
    "    else:\n",
    "        return fib(n-1) + fib(n-1)"
   ]
  },
  {
   "cell_type": "code",
   "execution_count": 9,
   "id": "b25691f9-62d5-4a61-ab44-37b423c29654",
   "metadata": {},
   "outputs": [
    {
     "data": {
      "text/plain": [
       "4"
      ]
     },
     "execution_count": 9,
     "metadata": {},
     "output_type": "execute_result"
    }
   ],
   "source": [
    "fib(3)"
   ]
  },
  {
   "cell_type": "code",
   "execution_count": 10,
   "id": "2ff2dc76-d09b-4398-925b-a5f4d23ebf7d",
   "metadata": {},
   "outputs": [],
   "source": [
    "def factorial(n):\n",
    "    if n == 0:\n",
    "        return 1\n",
    "    else:\n",
    "        return n * factorial()"
   ]
  },
  {
   "cell_type": "code",
   "execution_count": 15,
   "id": "344c8ce7-6d97-46ff-9333-649f5362139b",
   "metadata": {},
   "outputs": [],
   "source": [
    "# Factoriacl\n",
    "\n",
    "def fac(n):\n",
    "    return 1 if n== 0 else n*fac(n-1)"
   ]
  },
  {
   "cell_type": "code",
   "execution_count": 14,
   "id": "41017e34-8079-45a3-8ace-eea6061bd4e6",
   "metadata": {},
   "outputs": [
    {
     "name": "stdout",
     "output_type": "stream",
     "text": [
      "6\n"
     ]
    }
   ],
   "source": [
    "print(fac(3))"
   ]
  },
  {
   "cell_type": "code",
   "execution_count": 19,
   "id": "740c15cb-791f-4ae5-98db-e6cf5b31066a",
   "metadata": {},
   "outputs": [
    {
     "data": {
      "text/plain": [
       "35"
      ]
     },
     "execution_count": 19,
     "metadata": {},
     "output_type": "execute_result"
    }
   ],
   "source": [
    "#find second largest number in list\n",
    "n = [34,5,6,78,98,35]\n",
    "s = sorted(set(n))[-3]\n",
    "s"
   ]
  },
  {
   "cell_type": "code",
   "execution_count": 21,
   "id": "32a76a89-d7d7-4e78-a2a4-e12cfd13b9c9",
   "metadata": {},
   "outputs": [],
   "source": [
    "#remove punctuation from string\n",
    "import string\n",
    "s = \"abhishek , badwar\"\n",
    "a = s.translate(str.maketrans('', '', string.punctuation))"
   ]
  },
  {
   "cell_type": "code",
   "execution_count": 22,
   "id": "a8e4eea8-d524-466e-9777-081f9ef89638",
   "metadata": {},
   "outputs": [
    {
     "data": {
      "text/plain": [
       "'abhishek  badwar'"
      ]
     },
     "execution_count": 22,
     "metadata": {},
     "output_type": "execute_result"
    }
   ],
   "source": [
    "a"
   ]
  },
  {
   "cell_type": "code",
   "execution_count": 23,
   "id": "3e3a32da-516e-47ec-85c9-62f180e44e2a",
   "metadata": {},
   "outputs": [],
   "source": [
    "#find common elements in two list\n",
    "a =[2,3,4,5]\n",
    "b =[2,4,5,7]\n",
    "c = list(set(a)&set(b))"
   ]
  },
  {
   "cell_type": "code",
   "execution_count": 24,
   "id": "8ca5ce01-5130-4aee-8f36-704dc23632f2",
   "metadata": {},
   "outputs": [
    {
     "data": {
      "text/plain": [
       "[2, 4, 5]"
      ]
     },
     "execution_count": 24,
     "metadata": {},
     "output_type": "execute_result"
    }
   ],
   "source": [
    "c"
   ]
  },
  {
   "cell_type": "code",
   "execution_count": 27,
   "id": "bd79a201-9529-4ce1-bce3-704046fbbb82",
   "metadata": {},
   "outputs": [],
   "source": [
    "# convert list to string \n",
    "w = ['abhisje','badwar','sid']\n",
    "s = ' '.join(w)"
   ]
  },
  {
   "cell_type": "code",
   "execution_count": 28,
   "id": "52281ee2-20c8-4718-b266-077f8a0dd967",
   "metadata": {},
   "outputs": [
    {
     "data": {
      "text/plain": [
       "'abhisje badwar sid'"
      ]
     },
     "execution_count": 28,
     "metadata": {},
     "output_type": "execute_result"
    }
   ],
   "source": [
    "s"
   ]
  },
  {
   "cell_type": "code",
   "execution_count": 31,
   "id": "a7ea1a18-a526-4268-8b57-d98cf4cba448",
   "metadata": {},
   "outputs": [],
   "source": [
    "#reverse words in sentance \n",
    "s = 'badwar Abhishek'\n",
    "r = ' '.join(s.split()[::-1])"
   ]
  },
  {
   "cell_type": "code",
   "execution_count": 32,
   "id": "7b1cf1b1-568e-4171-9567-b1dd7118c6e9",
   "metadata": {},
   "outputs": [
    {
     "data": {
      "text/plain": [
       "'Abhishek badwar'"
      ]
     },
     "execution_count": 32,
     "metadata": {},
     "output_type": "execute_result"
    }
   ],
   "source": [
    "r"
   ]
  },
  {
   "cell_type": "code",
   "execution_count": 38,
   "id": "50bb7242-5aaa-4325-b7fe-28e30460afbb",
   "metadata": {},
   "outputs": [],
   "source": [
    "# Get unique values from list of dicts\n",
    "da = [{'a':1},{'a':3},{'a':1}]\n",
    "u = set(d['a'] for d in da)"
   ]
  },
  {
   "cell_type": "code",
   "execution_count": 39,
   "id": "bcc8c88f-d3c4-4f7a-a1c4-365f21834a33",
   "metadata": {},
   "outputs": [
    {
     "data": {
      "text/plain": [
       "{1, 3}"
      ]
     },
     "execution_count": 39,
     "metadata": {},
     "output_type": "execute_result"
    }
   ],
   "source": [
    "u"
   ]
  },
  {
   "cell_type": "code",
   "execution_count": 40,
   "id": "aaf8a863-8272-4609-a73c-bec805f5c895",
   "metadata": {},
   "outputs": [],
   "source": [
    "# create a dict from range \n",
    "s = {x:x*x for x in range (5)}"
   ]
  },
  {
   "cell_type": "code",
   "execution_count": 42,
   "id": "63ba8843-d4bc-4324-ade3-6c90961e27f8",
   "metadata": {},
   "outputs": [
    {
     "data": {
      "text/plain": [
       "{0: 0, 1: 1, 2: 4, 3: 9, 4: 16}"
      ]
     },
     "execution_count": 42,
     "metadata": {},
     "output_type": "execute_result"
    }
   ],
   "source": [
    "s"
   ]
  },
  {
   "cell_type": "code",
   "execution_count": 44,
   "id": "4899b4f9-3356-4f91-987f-3c3fca04cd7d",
   "metadata": {},
   "outputs": [
    {
     "data": {
      "text/plain": [
       "[(2, 1), (1, 3)]"
      ]
     },
     "execution_count": 44,
     "metadata": {},
     "output_type": "execute_result"
    }
   ],
   "source": [
    "# sort list of tuples by second item\n",
    "p = [(1,3),(2,1)]\n",
    "s = sorted(p, key=lambda x:x[1])\n",
    "s"
   ]
  },
  {
   "cell_type": "code",
   "execution_count": 1,
   "id": "a05a7689-18e1-4835-85b8-a76b66c1f7b5",
   "metadata": {},
   "outputs": [
    {
     "data": {
      "text/plain": [
       "[0, 1, 4, 9, 16]"
      ]
     },
     "execution_count": 1,
     "metadata": {},
     "output_type": "execute_result"
    }
   ],
   "source": [
    "# List comprehension\n",
    "s = [x**2 for x in range(5)]\n",
    "s"
   ]
  },
  {
   "cell_type": "code",
   "execution_count": 18,
   "id": "cb5298b4-63a3-40bc-995f-8c86757cd23b",
   "metadata": {},
   "outputs": [
    {
     "data": {
      "text/plain": [
       "[0, 9, 36, 81]"
      ]
     },
     "execution_count": 18,
     "metadata": {},
     "output_type": "execute_result"
    }
   ],
   "source": [
    "square = [x**2 for x in range(10) if x % 3 == 0]\n",
    "square"
   ]
  },
  {
   "cell_type": "code",
   "execution_count": 2,
   "id": "c2fef5f1-b8eb-43b3-8a53-5a8547fb6747",
   "metadata": {},
   "outputs": [
    {
     "data": {
      "text/plain": [
       "{1: 1, 2: 4, 3: 9, 4: 16, 5: 25, 6: 36, 7: 49}"
      ]
     },
     "execution_count": 2,
     "metadata": {},
     "output_type": "execute_result"
    }
   ],
   "source": [
    "# Dict comprehension\n",
    "num = [1,2,3,4,5,6,7]\n",
    "s = {n:n**2 for n in num}\n",
    "s"
   ]
  },
  {
   "cell_type": "code",
   "execution_count": 4,
   "id": "86bf20ac-995a-4000-aa82-4e232e319c74",
   "metadata": {},
   "outputs": [
    {
     "data": {
      "text/plain": [
       "{3, 4, 5, 6, 7, 8}"
      ]
     },
     "execution_count": 4,
     "metadata": {},
     "output_type": "execute_result"
    }
   ],
   "source": [
    "#  set comprehension  rmove duplicate and bulid sets \n",
    "num = [3,3,4,5,6,7,8,8,7]\n",
    "u = {n for n in num}\n",
    "u\n"
   ]
  },
  {
   "cell_type": "code",
   "execution_count": 6,
   "id": "bbf88df3-128a-4df1-b148-bc88232d871b",
   "metadata": {},
   "outputs": [
    {
     "data": {
      "text/plain": [
       "False"
      ]
     },
     "execution_count": 6,
     "metadata": {},
     "output_type": "execute_result"
    }
   ],
   "source": [
    "l = [2,2,3,4,5,6,6]\n",
    "u = len(set(l)) == len(l)\n",
    "u"
   ]
  },
  {
   "cell_type": "code",
   "execution_count": 8,
   "id": "ab8c0feb-1210-4387-9bb9-91fb02365470",
   "metadata": {},
   "outputs": [
    {
     "data": {
      "text/plain": [
       "[2, 2, 4, 6, 6]"
      ]
     },
     "execution_count": 8,
     "metadata": {},
     "output_type": "execute_result"
    }
   ],
   "source": [
    "e = list(filter(lambda x:x % 2 == 0, l))\n",
    "e"
   ]
  },
  {
   "cell_type": "code",
   "execution_count": 19,
   "id": "c23c9c26-6af2-4bcf-b853-565cddb79ce6",
   "metadata": {},
   "outputs": [
    {
     "name": "stdout",
     "output_type": "stream",
     "text": [
      "3\n"
     ]
    }
   ],
   "source": [
    "fib = lambda n:n if n <= 1 else fib(n-1) + fib(n-2)\n",
    "print(fib(4))"
   ]
  },
  {
   "cell_type": "code",
   "execution_count": 20,
   "id": "9c88ca77-4e5b-4aa4-8f86-af6d13b07509",
   "metadata": {},
   "outputs": [],
   "source": [
    "def fact(n):\n",
    "    if n == 0:\n",
    "        return 1 \n",
    "    return n * fact(n-1)"
   ]
  },
  {
   "cell_type": "code",
   "execution_count": 21,
   "id": "f81ddf97-3d28-4d37-9aee-e7d68cf82040",
   "metadata": {},
   "outputs": [
    {
     "data": {
      "text/plain": [
       "120"
      ]
     },
     "execution_count": 21,
     "metadata": {},
     "output_type": "execute_result"
    }
   ],
   "source": [
    " fact(5)"
   ]
  },
  {
   "cell_type": "code",
   "execution_count": 26,
   "id": "8b1ff75d-7a64-4b59-bbc5-2a604f97ed38",
   "metadata": {},
   "outputs": [
    {
     "data": {
      "text/plain": [
       "[(12, 67)]"
      ]
     },
     "execution_count": 26,
     "metadata": {},
     "output_type": "execute_result"
    }
   ],
   "source": [
    "num = [12 , 23 , 34 , 45 , 56 , 67]\n",
    "v = list(map(lambda x:(min(x),max(x)),[num]))\n",
    "v"
   ]
  },
  {
   "cell_type": "code",
   "execution_count": null,
   "id": "6ff90725-66c2-4dc5-9beb-35040d7931e8",
   "metadata": {},
   "outputs": [],
   "source": []
  }
 ],
 "metadata": {
  "kernelspec": {
   "display_name": "Python 3 (ipykernel)",
   "language": "python",
   "name": "python3"
  },
  "language_info": {
   "codemirror_mode": {
    "name": "ipython",
    "version": 3
   },
   "file_extension": ".py",
   "mimetype": "text/x-python",
   "name": "python",
   "nbconvert_exporter": "python",
   "pygments_lexer": "ipython3",
   "version": "3.11.2"
  },
  "widgets": {
   "application/vnd.jupyter.widget-state+json": {
    "state": {},
    "version_major": 2,
    "version_minor": 0
   }
  }
 },
 "nbformat": 4,
 "nbformat_minor": 5
}
