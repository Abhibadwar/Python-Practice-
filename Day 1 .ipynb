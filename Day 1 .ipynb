{
 "cells": [
  {
   "cell_type": "code",
   "execution_count": 2,
   "id": "1470d443-b6d3-4611-ad80-7f8e2e3a7ff0",
   "metadata": {},
   "outputs": [],
   "source": [
    "# 1. Reverse a string \n",
    "# How would you reverse a string in Python?"
   ]
  },
  {
   "cell_type": "code",
   "execution_count": 3,
   "id": "6f3264ff-930d-409a-9132-ff5a6622ddca",
   "metadata": {},
   "outputs": [
    {
     "name": "stdout",
     "output_type": "stream",
     "text": [
      "rawdaB kehsihbA\n"
     ]
    }
   ],
   "source": [
    "a = \"Abhishek Badwar\"\n",
    "print(a[::-1])"
   ]
  },
  {
   "cell_type": "code",
   "execution_count": 5,
   "id": "103e96ef-a25f-4100-9c63-7e4dab99499a",
   "metadata": {},
   "outputs": [
    {
     "name": "stdout",
     "output_type": "stream",
     "text": [
      "rawdaB kehsihbA\n"
     ]
    }
   ],
   "source": [
    "a = \"Abhishek Badwar\"\n",
    "rev_str = \"\"\n",
    "for i in a:\n",
    "    rev_str = i + rev_str\n",
    "print(rev_str)"
   ]
  },
  {
   "cell_type": "code",
   "execution_count": 7,
   "id": "83358c8c-692f-4441-91af-6d5e2bcc2114",
   "metadata": {},
   "outputs": [
    {
     "name": "stdout",
     "output_type": "stream",
     "text": [
      "rawdaB kehsihbA\n"
     ]
    }
   ],
   "source": [
    "a = \"Abhishek Badwar\"\n",
    "print(\"\".join(reversed(a)))"
   ]
  },
  {
   "cell_type": "code",
   "execution_count": 8,
   "id": "f0c52869-9b7f-4e3c-a66b-a30686781af7",
   "metadata": {},
   "outputs": [],
   "source": [
    "# 2. Check if a string is a palindrome\n",
    "# How do you check if a string is a palindrome?"
   ]
  },
  {
   "cell_type": "code",
   "execution_count": 14,
   "id": "a0dd3f83-911f-4883-b010-78b5cdff088b",
   "metadata": {},
   "outputs": [
    {
     "name": "stdout",
     "output_type": "stream",
     "text": [
      "False\n"
     ]
    }
   ],
   "source": [
    "a = \"Abhishek Badwar\"\n",
    "b = \"abhishek\"\n",
    "print(b == b[::-1])"
   ]
  },
  {
   "cell_type": "code",
   "execution_count": 16,
   "id": "460b6764-2581-4d7e-9870-b2503fa6d008",
   "metadata": {},
   "outputs": [
    {
     "name": "stdout",
     "output_type": "stream",
     "text": [
      "False\n"
     ]
    }
   ],
   "source": [
    "# Two-pointer approach\n",
    "def palindrome(a):\n",
    "    left, right = 0, len(a) - 1\n",
    "    while left < right:\n",
    "        if a[left] != a[right]:\n",
    "            return False\n",
    "        left += 1\n",
    "        right -= 1\n",
    "    return True \n",
    "\n",
    "print (palindrome('siddhu'))"
   ]
  },
  {
   "cell_type": "code",
   "execution_count": 24,
   "id": "7eecfd1e-f793-4969-90e4-66fb3fa57f85",
   "metadata": {},
   "outputs": [
    {
     "name": "stdout",
     "output_type": "stream",
     "text": [
      "True\n"
     ]
    }
   ],
   "source": [
    "str = 'Kayak'.lower()\n",
    "if str == str[::-1]:\n",
    "    print('True')\n",
    "else:\n",
    "    print('False')"
   ]
  },
  {
   "cell_type": "code",
   "execution_count": 18,
   "id": "ef7091b9-d80b-4524-a7e2-d7984826514e",
   "metadata": {},
   "outputs": [
    {
     "name": "stdout",
     "output_type": "stream",
     "text": [
      "120\n"
     ]
    }
   ],
   "source": [
    "#3. Find factorial of a number\n",
    "#Write code to calculate factorial of a number using recursion and loop.\n",
    "def fac(n):\n",
    "    if n == 0 or n ==1:\n",
    "        return 1 \n",
    "    return n * fac(n-1)\n",
    "print(fac(5))"
   ]
  },
  {
   "cell_type": "code",
   "execution_count": 20,
   "id": "b9e92b89-0969-4fda-869c-dc7c2ec7b6c9",
   "metadata": {},
   "outputs": [
    {
     "name": "stdout",
     "output_type": "stream",
     "text": [
      "25852016738884976640000\n"
     ]
    }
   ],
   "source": [
    "# loop \n",
    "def fac(n):\n",
    "    res = 1\n",
    "    for i in range(1, n+1):\n",
    "        res *= i \n",
    "    return res\n",
    "\n",
    "print (fac(23))\n",
    "    "
   ]
  },
  {
   "cell_type": "code",
   "execution_count": 22,
   "id": "748066c0-f609-49bf-acd1-ee1c520e9293",
   "metadata": {},
   "outputs": [
    {
     "name": "stdout",
     "output_type": "stream",
     "text": [
      "120\n"
     ]
    }
   ],
   "source": [
    "import math \n",
    "print (math.factorial(5))"
   ]
  },
  {
   "cell_type": "code",
   "execution_count": 23,
   "id": "2def6af2-f938-467a-b7a8-a7b295434241",
   "metadata": {},
   "outputs": [
    {
     "name": "stdout",
     "output_type": "stream",
     "text": [
      "0 1 1 2 3 5 8 13 21 34 55 89 144 233 377 610 987 1597 2584 4181 "
     ]
    }
   ],
   "source": [
    "#4. Print first n Fibonacci terms\n",
    "#How do you print Fibonacci sequence?\n",
    "\n",
    "def fibonacci(n):\n",
    "    a,b = 0,1\n",
    "    for _ in range(n):\n",
    "        print(a, end=\" \")\n",
    "        a,b = b, a+b\n",
    "\n",
    "fibonacci(20)"
   ]
  },
  {
   "cell_type": "code",
   "execution_count": 28,
   "id": "6e35b767-4609-41be-808f-8891683eea2c",
   "metadata": {},
   "outputs": [
    {
     "name": "stdout",
     "output_type": "stream",
     "text": [
      "3\n",
      "abhishek\n"
     ]
    }
   ],
   "source": [
    "#5. Count vowels and consonants in a string\n",
    "#How would you count vowels and consonants in a string?\n",
    "\n",
    "vowel = ['a','e','i','o','u']\n",
    "word = \"abhishek\"\n",
    "count = 0\n",
    "for char in word:\n",
    "    if char in vowel:\n",
    "        count += 1\n",
    "print(count)"
   ]
  },
  {
   "cell_type": "code",
   "execution_count": 30,
   "id": "258804c0-0630-4f34-9c2a-ccd785e69d2e",
   "metadata": {},
   "outputs": [
    {
     "name": "stdout",
     "output_type": "stream",
     "text": [
      "5\n"
     ]
    }
   ],
   "source": [
    "# counting vowels in given word \n",
    "vowel = ['a','e','i','o','u']\n",
    "word = \"abhishek\"\n",
    "count = 0\n",
    "for char in word:\n",
    "    if char not in vowel:\n",
    "        count += 1\n",
    "print(count)"
   ]
  },
  {
   "cell_type": "code",
   "execution_count": 33,
   "id": "42c57395-75d9-48b8-9ca6-51e49ca7c77b",
   "metadata": {},
   "outputs": [
    {
     "name": "stdout",
     "output_type": "stream",
     "text": [
      "0\n"
     ]
    }
   ],
   "source": [
    "vowel = ['a','e','i','o','u']\n",
    "word = \"abhishek\"\n",
    "count = 0\n",
    "for char in word:\n",
    "    if i == char:\n",
    "        count += 1\n",
    "print(count)"
   ]
  },
  {
   "cell_type": "code",
   "execution_count": 32,
   "id": "9fb84a5c-c5c4-4010-9740-acca90d20c2b",
   "metadata": {},
   "outputs": [
    {
     "name": "stdout",
     "output_type": "stream",
     "text": [
      "Vowels: 3 Consonants: 5\n"
     ]
    }
   ],
   "source": [
    "s = \"abhishek\"\n",
    "vowels = \"aeiouAEIOU\"\n",
    "v_count, c_count = 0, 0\n",
    "\n",
    "for ch in s:\n",
    "    if ch.isalpha():\n",
    "        if ch in vowels:\n",
    "            v_count += 1\n",
    "        else:\n",
    "            c_count += 1\n",
    "\n",
    "print(\"Vowels:\", v_count, \"Consonants:\", c_count)\n"
   ]
  },
  {
   "cell_type": "code",
   "execution_count": null,
   "id": "b6987895-02e7-4f99-8735-799f8efd866f",
   "metadata": {},
   "outputs": [],
   "source": []
  }
 ],
 "metadata": {
  "kernelspec": {
   "display_name": "Python 3 (ipykernel)",
   "language": "python",
   "name": "python3"
  },
  "language_info": {
   "codemirror_mode": {
    "name": "ipython",
    "version": 3
   },
   "file_extension": ".py",
   "mimetype": "text/x-python",
   "name": "python",
   "nbconvert_exporter": "python",
   "pygments_lexer": "ipython3",
   "version": "3.11.2"
  },
  "widgets": {
   "application/vnd.jupyter.widget-state+json": {
    "state": {},
    "version_major": 2,
    "version_minor": 0
   }
  }
 },
 "nbformat": 4,
 "nbformat_minor": 5
}
