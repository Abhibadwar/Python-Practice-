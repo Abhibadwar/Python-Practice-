{
 "cells": [
  {
   "cell_type": "code",
   "execution_count": 1,
   "id": "2d5f3c95-226c-4819-a9a5-9ce63140c11c",
   "metadata": {},
   "outputs": [
    {
     "name": "stdout",
     "output_type": "stream",
     "text": [
      "50\n"
     ]
    }
   ],
   "source": [
    "# python program to find the largest element in the list\n",
    "\n",
    "a = [10 , 30 , 40 , 50]\n",
    "print(max(a))"
   ]
  },
  {
   "cell_type": "code",
   "execution_count": 2,
   "id": "5b087070-a1ac-4582-9976-f4dcc24657bb",
   "metadata": {},
   "outputs": [
    {
     "data": {
      "text/plain": [
       "[9, 4, 5, 6, 7, 8, 3]"
      ]
     },
     "execution_count": 2,
     "metadata": {},
     "output_type": "execute_result"
    }
   ],
   "source": [
    "# python program to interchange first and last elements in a list\n",
    "a = [3,4 ,5,6 ,7,8,9]\n",
    "a[0], a[-1] = a[-1], a[0]\n",
    "a"
   ]
  },
  {
   "cell_type": "code",
   "execution_count": 5,
   "id": "b89cf445-d088-41cb-b8f3-c99c688cd680",
   "metadata": {},
   "outputs": [
    {
     "data": {
      "text/plain": [
       "[3, 6, 5, 4]"
      ]
     },
     "execution_count": 5,
     "metadata": {},
     "output_type": "execute_result"
    }
   ],
   "source": [
    "# python program to swap two element  in a list\n",
    "a =[3,4,5,6]\n",
    "i , j = 1,3 # swap elements\n",
    "a[i] , a[j] = a[j] , a[i]\n",
    "a"
   ]
  },
  {
   "cell_type": "code",
   "execution_count": 6,
   "id": "d2b753e7-e81c-423b-af2f-e18ee80b311d",
   "metadata": {},
   "outputs": [
    {
     "data": {
      "text/plain": [
       "[8, 7, 6, 5, 4, 3]"
      ]
     },
     "execution_count": 6,
     "metadata": {},
     "output_type": "execute_result"
    }
   ],
   "source": [
    "# python reverse a list\n",
    "a =[3,4,5,6,7,8]\n",
    "a[::-1]"
   ]
  },
  {
   "cell_type": "code",
   "execution_count": 7,
   "id": "b84d79c6-88cc-4ed1-9899-31e9a2cc3609",
   "metadata": {},
   "outputs": [
    {
     "data": {
      "text/plain": [
       "4"
      ]
     },
     "execution_count": 7,
     "metadata": {},
     "output_type": "execute_result"
    }
   ],
   "source": [
    "# program to count occurrences of an elements in a list\n",
    "a =[1,2,1,3,1,4,1]\n",
    "a.count(1)"
   ]
  },
  {
   "cell_type": "code",
   "execution_count": 8,
   "id": "60946089-baea-4796-bade-47add9e3f824",
   "metadata": {},
   "outputs": [
    {
     "data": {
      "text/plain": [
       "24"
      ]
     },
     "execution_count": 8,
     "metadata": {},
     "output_type": "execute_result"
    }
   ],
   "source": [
    "# python program to multipl all numbers in the list\n",
    "a = [1,2,3,4]\n",
    "p = 1\n",
    "for num in a:\n",
    "    p *= num\n",
    "p"
   ]
  },
  {
   "cell_type": "code",
   "execution_count": 9,
   "id": "ea0d43f0-7a0d-4607-a53f-cf051c8d56c3",
   "metadata": {},
   "outputs": [
    {
     "name": "stdout",
     "output_type": "stream",
     "text": [
      "5\n",
      "45\n"
     ]
    }
   ],
   "source": [
    "# python program to find smallest and largest number in list(without min-max function)\n",
    "\n",
    "a =[34 , 5 , 45 , 23 , 5]\n",
    "s = a[0]\n",
    "l = a[0]\n",
    "for i in a:\n",
    "    if i < s:\n",
    "        s = i\n",
    "    if i > l:\n",
    "        l = i\n",
    "\n",
    "print(s)\n",
    "print(l)"
   ]
  },
  {
   "cell_type": "code",
   "execution_count": 10,
   "id": "945dd992-3229-4ef3-9eaf-a2f3dd9de489",
   "metadata": {},
   "outputs": [
    {
     "name": "stdin",
     "output_type": "stream",
     "text": [
      "Enter radius: 23\n"
     ]
    },
    {
     "name": "stdout",
     "output_type": "stream",
     "text": [
      "1661.06\n"
     ]
    }
   ],
   "source": [
    "# program to find the area of a circle\n",
    "r = float(input(\"Enter radius:\"))\n",
    "a = 3.14 * r * r\n",
    "print(a)"
   ]
  },
  {
   "cell_type": "code",
   "execution_count": 11,
   "id": "ff140587-d16c-4312-9c8c-5645b53a6f94",
   "metadata": {},
   "outputs": [
    {
     "name": "stdin",
     "output_type": "stream",
     "text": [
      "Enter list element separated by space 20\n",
      "Enter item to remove:  12\n"
     ]
    },
    {
     "name": "stdout",
     "output_type": "stream",
     "text": [
      "20\n"
     ]
    }
   ],
   "source": [
    "# Take input from the user to make a list again take one input from the user and search it in the list and delete that etement if  found lterate  over a list using  for loop\n",
    "a  = list(map(int, input(\"Enter list element separated by space\").split()))\n",
    "i = int(input(\"Enter item to remove: \"))\n",
    "if i in a:\n",
    "    a.remove(i)\n",
    "for x in a:\n",
    "    print(x)"
   ]
  },
  {
   "cell_type": "code",
   "execution_count": 12,
   "id": "36674976-18cf-435f-94de-caf5cda0ace8",
   "metadata": {},
   "outputs": [
    {
     "name": "stdout",
     "output_type": "stream",
     "text": [
      "[9, 16, 25, 36]\n"
     ]
    }
   ],
   "source": [
    "# Given a list of integer elements create a new list with squarre(with/without list comprehension)\n",
    "input = [3,4,5,6]\n",
    "output = [x**2 for x in input]\n",
    "print(output)"
   ]
  },
  {
   "cell_type": "code",
   "execution_count": 13,
   "id": "e2ee2cf8-69c3-44d0-8f9e-74c6402833bf",
   "metadata": {},
   "outputs": [
    {
     "data": {
      "text/plain": [
       "[9, 16, 25, 36]"
      ]
     },
     "execution_count": 13,
     "metadata": {},
     "output_type": "execute_result"
    }
   ],
   "source": [
    "#With out list comprehension\n",
    "output2 = []\n",
    "for x in input:\n",
    "    output2.append(x**2)\n",
    "\n",
    "output2"
   ]
  },
  {
   "cell_type": "code",
   "execution_count": 15,
   "id": "f1265608-4d1d-4875-9dbb-eb914221f356",
   "metadata": {},
   "outputs": [
    {
     "name": "stdout",
     "output_type": "stream",
     "text": [
      "[0, 2, 4, 6, 8, 10, 12, 14, 16, 18, 20, 22, 24, 26, 28, 30, 32, 34, 36, 38, 40, 42, 44, 46, 48, 50, 52, 54, 56, 58, 60, 62, 64, 66, 68, 70, 72, 74, 76, 78, 80, 82, 84, 86, 88, 90, 92, 94, 96, 98, 100, 102, 104, 106, 108, 110, 112, 114, 116, 118, 120, 122, 124, 126, 128, 130, 132, 134, 136, 138, 140, 142, 144, 146, 148, 150]\n",
      "[1, 3, 5, 7, 9, 11, 13, 15, 17, 19, 21, 23, 25, 27, 29, 31, 33, 35, 37, 39, 41, 43, 45, 47, 49, 51, 53, 55, 57, 59, 61, 63, 65, 67, 69, 71, 73, 75, 77, 79, 81, 83, 85, 87, 89, 91, 93, 95, 97, 99, 101, 103, 105, 107, 109, 111, 113, 115, 117, 119, 121, 123, 125, 127, 129, 131, 133, 135, 137, 139, 141, 143, 145, 147, 149, 151]\n"
     ]
    }
   ],
   "source": [
    "# create even and odd numbers in alist\n",
    "even = [x for x in range(152) if x % 2 == 0]\n",
    "odd = [x for x in range(152) if x % 2 !=0]\n",
    "print(even)\n",
    "print(odd)"
   ]
  },
  {
   "cell_type": "code",
   "execution_count": 16,
   "id": "59765dbc-9641-4831-b9b9-2d41fea9929e",
   "metadata": {},
   "outputs": [
    {
     "name": "stdout",
     "output_type": "stream",
     "text": [
      "3 4\n"
     ]
    }
   ],
   "source": [
    "# count even and odd numbers list\n",
    "\n",
    "a = [1,2,3,4,5,6,7]\n",
    "even = sum(1 for x in a if x % 2 == 0)\n",
    "odd = sum(1 for x in a if x % 2 != 0)\n",
    "print(even,odd)\n"
   ]
  },
  {
   "cell_type": "code",
   "execution_count": 18,
   "id": "cb009d86-ae12-43d6-ae7b-27c771142460",
   "metadata": {},
   "outputs": [
    {
     "data": {
      "text/plain": [
       "[0,\n",
       " 6,\n",
       " 12,\n",
       " 18,\n",
       " 24,\n",
       " 30,\n",
       " 36,\n",
       " 42,\n",
       " 48,\n",
       " 54,\n",
       " 60,\n",
       " 66,\n",
       " 72,\n",
       " 78,\n",
       " 84,\n",
       " 90,\n",
       " 96,\n",
       " 102,\n",
       " 108,\n",
       " 114,\n",
       " 120,\n",
       " 126,\n",
       " 132,\n",
       " 138,\n",
       " 144,\n",
       " 150]"
      ]
     },
     "execution_count": 18,
     "metadata": {},
     "output_type": "execute_result"
    }
   ],
   "source": [
    "# make  new lists divisible by 4,6,8,10,3,5,7,9 in range(0,151)\n",
    "\n",
    "num = range (0,151)\n",
    "div4 = [x for x in num if x % 4 == 0]\n",
    "div6 = [x for x in num if x % 6 == 0]\n",
    "div6\n"
   ]
  },
  {
   "cell_type": "code",
   "execution_count": 19,
   "id": "0f0f0bbe-9876-4644-8316-fb80ddbdd075",
   "metadata": {},
   "outputs": [
    {
     "name": "stdout",
     "output_type": "stream",
     "text": [
      "[1, 2]\n",
      "['hello', 'world']\n",
      "[3.14, 5.0]\n"
     ]
    }
   ],
   "source": [
    "# separate ints str and floats from list\n",
    "\n",
    "a = [1, 'hello', 3.14, 2 , 'world', 5.0]\n",
    "int = [x for x in a if isinstance (x, int)]\n",
    "str = [x for x in a if isinstance (x, str)]\n",
    "float = [x for x in a if isinstance (x, float)]\n",
    "\n",
    "print(int)\n",
    "print(str)\n",
    "print(float)"
   ]
  },
  {
   "cell_type": "code",
   "execution_count": 23,
   "id": "e8f8c327-3762-4d09-a979-d92818325de0",
   "metadata": {},
   "outputs": [
    {
     "name": "stdout",
     "output_type": "stream",
     "text": [
      "9\n"
     ]
    }
   ],
   "source": [
    "# find the third largest number in a list\n",
    "a  = [5,6,7,8,9,3]\n",
    "sort = sorted(a, reverse=True)\n",
    "largest = sort[0]\n",
    "print(largest)"
   ]
  },
  {
   "cell_type": "code",
   "execution_count": 24,
   "id": "8ba479eb-d3a4-4f18-ba34-e0a0027cc7b1",
   "metadata": {},
   "outputs": [
    {
     "name": "stdout",
     "output_type": "stream",
     "text": [
      "{1: 1, 2: 1, 3: 2, 4: 4}\n"
     ]
    }
   ],
   "source": [
    "#Get frequency of element in alist\n",
    "a = [1,2,3,3,4,4,4,4]\n",
    "freq = {}\n",
    "for i in a:\n",
    "    freq[i] = freq.get(i,0) + 1\n",
    "\n",
    "print(freq)"
   ]
  },
  {
   "cell_type": "code",
   "execution_count": 25,
   "id": "365f828c-beab-43e6-adee-f8383dbd4a07",
   "metadata": {},
   "outputs": [
    {
     "name": "stdout",
     "output_type": "stream",
     "text": [
      "Counter({4: 4, 3: 2, 1: 1, 2: 1})\n"
     ]
    }
   ],
   "source": [
    "from collections import Counter\n",
    "a  = [1,2,3,3,4,4,4,4]\n",
    "print(Counter(a))"
   ]
  },
  {
   "cell_type": "code",
   "execution_count": 26,
   "id": "c0995afa-4e45-4910-818a-25185df3c8c5",
   "metadata": {},
   "outputs": [],
   "source": [
    "# Check whether a list contains a sublist\n",
    "def sublist(a, sub):\n",
    "    for i in range(len(a) - len(sub) +1):\n",
    "        if a [i:i + len(sub)] == sub:\n",
    "            return True \n",
    "    return False"
   ]
  },
  {
   "cell_type": "code",
   "execution_count": 28,
   "id": "7cd95923-8417-4b6d-93b9-d20504f2ac51",
   "metadata": {},
   "outputs": [
    {
     "name": "stdout",
     "output_type": "stream",
     "text": [
      "False\n"
     ]
    }
   ],
   "source": [
    "a = [1,2,3,4,5,6,7]\n",
    "sub = [3,8]\n",
    "\n",
    "print(sublist(a,sub))"
   ]
  },
  {
   "cell_type": "code",
   "execution_count": 29,
   "id": "f1f3f584-d80c-4ce8-9972-4ac84b1d7431",
   "metadata": {},
   "outputs": [
    {
     "name": "stdout",
     "output_type": "stream",
     "text": [
      "[[1], [1, 2], [2], [1, 2, 3], [2, 3], [3]]\n"
     ]
    }
   ],
   "source": [
    "# generate all sublist of a list\n",
    "a = [1,2,3]\n",
    "sublist = []\n",
    "for i in range(len(a) + 1):\n",
    "    for j in range(i):\n",
    "        sublist.append(a[j:i])\n",
    "\n",
    "print(sublist)"
   ]
  },
  {
   "cell_type": "code",
   "execution_count": 30,
   "id": "a9e554c1-18fc-448b-9091-b6f5f1176306",
   "metadata": {},
   "outputs": [
    {
     "name": "stdout",
     "output_type": "stream",
     "text": [
      "[2, 4]\n"
     ]
    }
   ],
   "source": [
    "# find common item from two list\n",
    "a = [2,3,4]\n",
    "b = [2,4,5]\n",
    "\n",
    "common = list(set(a) & set(b))\n",
    "print(common)"
   ]
  },
  {
   "cell_type": "code",
   "execution_count": 31,
   "id": "784f20bb-4fdc-4209-83b4-e6ff3169c360",
   "metadata": {},
   "outputs": [
    {
     "data": {
      "text/plain": [
       "2"
      ]
     },
     "execution_count": 31,
     "metadata": {},
     "output_type": "execute_result"
    }
   ],
   "source": [
    "#  How to find occurances of an elements in the list\n",
    "a = [1,2,2,3,3,3]\n",
    "occ = a.count(2)\n",
    "occ"
   ]
  },
  {
   "cell_type": "code",
   "execution_count": 32,
   "id": "4b0c8137-bc1f-4061-80d6-c4fbba764010",
   "metadata": {},
   "outputs": [
    {
     "name": "stdout",
     "output_type": "stream",
     "text": [
      "[1, 2, 3, 4]\n"
     ]
    }
   ],
   "source": [
    "# How to concatenate two lists\n",
    "a = [1,2]\n",
    "b = [3,4]\n",
    "concat = a + b\n",
    "print(concat)"
   ]
  },
  {
   "cell_type": "code",
   "execution_count": 33,
   "id": "6419482f-4504-4224-b6b0-db290d7f781d",
   "metadata": {},
   "outputs": [
    {
     "name": "stdout",
     "output_type": "stream",
     "text": [
      "empty\n"
     ]
    }
   ],
   "source": [
    "# How to check if a list is empty \n",
    "a = []\n",
    "if not a :\n",
    "    print('empty')"
   ]
  },
  {
   "cell_type": "code",
   "execution_count": null,
   "id": "12f82cab-94f6-4735-acff-6ef1e9b675cd",
   "metadata": {},
   "outputs": [],
   "source": []
  }
 ],
 "metadata": {
  "kernelspec": {
   "display_name": "Python 3 (ipykernel)",
   "language": "python",
   "name": "python3"
  },
  "language_info": {
   "codemirror_mode": {
    "name": "ipython",
    "version": 3
   },
   "file_extension": ".py",
   "mimetype": "text/x-python",
   "name": "python",
   "nbconvert_exporter": "python",
   "pygments_lexer": "ipython3",
   "version": "3.11.2"
  },
  "widgets": {
   "application/vnd.jupyter.widget-state+json": {
    "state": {},
    "version_major": 2,
    "version_minor": 0
   }
  }
 },
 "nbformat": 4,
 "nbformat_minor": 5
}
